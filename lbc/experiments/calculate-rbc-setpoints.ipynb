{
 "cells": [
  {
   "cell_type": "code",
   "execution_count": 1,
   "id": "233139a8",
   "metadata": {},
   "outputs": [],
   "source": [
    "import numpy as np\n",
    "import pandas as pd\n",
    "import matplotlib.pyplot as plt\n",
    "\n",
    "from lbc.scenario import Scenario\n",
    "from lbc.demand_response import DemandResponseProgram\n",
    "from lbc.policies import RuleBasedControlPolicy\n",
    "\n",
    "%matplotlib inline\n",
    "%load_ext autoreload"
   ]
  },
  {
   "cell_type": "code",
   "execution_count": 2,
   "id": "ce2a2949",
   "metadata": {},
   "outputs": [],
   "source": [
    "def hr_index(index, hr):\n",
    "    return np.where(np.array([x.hour for x in index]) == hr)[0][0]"
   ]
  },
  {
   "cell_type": "markdown",
   "id": "0e68762a",
   "metadata": {},
   "source": [
    "# TOU"
   ]
  },
  {
   "cell_type": "code",
   "execution_count": 3,
   "id": "66473bcc",
   "metadata": {},
   "outputs": [],
   "source": [
    "dr = DemandResponseProgram(\"TOU\")\n",
    "s = Scenario(dr_program=dr)"
   ]
  },
  {
   "cell_type": "code",
   "execution_count": 4,
   "id": "fd664423",
   "metadata": {},
   "outputs": [
    {
     "data": {
      "text/plain": [
       "{'dr_start_time': '12:00:00',\n",
       " 'dr_end_time': '18:00:00',\n",
       " 'program_type': 'TOU',\n",
       " 'program_specific': {'tou_off_peak': 1.0, 'tou_peak': 10.0}}"
      ]
     },
     "execution_count": 4,
     "metadata": {},
     "output_type": "execute_result"
    }
   ],
   "source": [
    "dr.default_config[\"TOU\"]"
   ]
  },
  {
   "cell_type": "code",
   "execution_count": 7,
   "id": "cc00c589",
   "metadata": {},
   "outputs": [],
   "source": [
    "%autoreload 2\n",
    "from lbc.policies import RuleBasedControlPolicy"
   ]
  },
  {
   "cell_type": "code",
   "execution_count": 8,
   "id": "3bb5cdda",
   "metadata": {},
   "outputs": [
    {
     "name": "stdout",
     "output_type": "stream",
     "text": [
      "[(0, 27), (83, 24), (131, 21), (143, 24), (215, 24), (215, 27)]\n"
     ]
    },
    {
     "data": {
      "text/plain": [
       "<AxesSubplot:>"
      ]
     },
     "execution_count": 8,
     "metadata": {},
     "output_type": "execute_result"
    },
    {
     "data": {
      "image/png": "[encoded data removed]",
      "text/plain": [
       "<Figure size 432x288 with 1 Axes>"
      ]
     },
     "metadata": {
      "needs_background": "light"
     },
     "output_type": "display_data"
    }
   ],
   "source": [
    "# Comfort start/stop applies to all DR programs\n",
    "comfort_start = hr_index(s.time_index, hr=7)\n",
    "comfort_stop = hr_index(s.time_index, hr=18)\n",
    "\n",
    "# DR start and stop indexes\n",
    "dr_start = hr_index(s.time_index, hr=12)\n",
    "dr_stop = hr_index(s.time_index, hr=18)\n",
    "\n",
    "# Precooling happens 1 hr before DR start\n",
    "precooling_start = dr_start - 12  # 5 min/step\n",
    "\n",
    "setpoints = [\n",
    "    (0, 27),\n",
    "    (comfort_start, 24),\n",
    "    (precooling_start, 21), \n",
    "    (dr_start, 24),\n",
    "    (dr_stop, 24),\n",
    "    (comfort_stop, 27)\n",
    "]\n",
    "\n",
    "print(setpoints)\n",
    "\n",
    "policy = RuleBasedControlPolicy(\n",
    "    setpoints=setpoints, num_steps=s.num_episode_steps,\n",
    "    cooling_p_flow=1., cooling_p_discharge_temp=.8)\n",
    "\n",
    "pd.DataFrame(policy.comfort_band).plot()"
   ]
  },
  {
   "cell_type": "markdown",
   "id": "bb22c322",
   "metadata": {},
   "source": [
    "# PC"
   ]
  },
  {
   "cell_type": "code",
   "execution_count": 9,
   "id": "1c663917",
   "metadata": {},
   "outputs": [
    {
     "data": {
      "text/plain": [
       "{'dr_start_time': '13:00:00',\n",
       " 'dr_end_time': '17:00:00',\n",
       " 'program_type': 'PC',\n",
       " 'program_specific': {'p_limit_dr': 10.0,\n",
       "  'p_limit_nondr': 25.0,\n",
       "  'base_price': 1.0,\n",
       "  'pc_penalty': 10.0}}"
      ]
     },
     "execution_count": 9,
     "metadata": {},
     "output_type": "execute_result"
    }
   ],
   "source": [
    "dr = DemandResponseProgram(\"PC\")\n",
    "s = Scenario(dr_program=dr)\n",
    "\n",
    "dr.default_config[\"PC\"]"
   ]
  },
  {
   "cell_type": "code",
   "execution_count": 10,
   "id": "6846730f",
   "metadata": {},
   "outputs": [
    {
     "name": "stdout",
     "output_type": "stream",
     "text": [
      "[(0, 27), (83, 24), (143, 21), (155, 24), (203, 24), (215, 27)]\n"
     ]
    },
    {
     "data": {
      "text/plain": [
       "<AxesSubplot:>"
      ]
     },
     "execution_count": 10,
     "metadata": {},
     "output_type": "execute_result"
    },
    {
     "data": {
      "image/png": "[encoded data removed]",
      "text/plain": [
       "<Figure size 432x288 with 1 Axes>"
      ]
     },
     "metadata": {
      "needs_background": "light"
     },
     "output_type": "display_data"
    }
   ],
   "source": [
    "dr_start = hr_index(s.time_index, hr=13)\n",
    "dr_stop = hr_index(s.time_index, hr=17)\n",
    "\n",
    "precooling_start = dr_start - 12  # 5 min/step\n",
    "precooling_stop = dr_start\n",
    "\n",
    "setpoints = [\n",
    "    (0, 27),\n",
    "    (comfort_start, 24),\n",
    "    (precooling_start, 21), \n",
    "    (dr_start, 24),\n",
    "    (dr_stop, 24),\n",
    "    (comfort_stop, 27)\n",
    "]\n",
    "\n",
    "print(setpoints)\n",
    "\n",
    "policy = RuleBasedControlPolicy(\n",
    "    setpoints=setpoints, num_steps=s.num_episode_steps,\n",
    "    cooling_p_flow=1., cooling_p_discharge_temp=.8)\n",
    "\n",
    "pd.DataFrame(policy.comfort_band).plot()"
   ]
  },
  {
   "cell_type": "markdown",
   "id": "b1851630",
   "metadata": {},
   "source": [
    "# RTP"
   ]
  },
  {
   "cell_type": "code",
   "execution_count": 11,
   "id": "64d55b52",
   "metadata": {},
   "outputs": [
    {
     "data": {
      "text/plain": [
       "{'program_type': 'RTP', 'program_specific': {}}"
      ]
     },
     "execution_count": 11,
     "metadata": {},
     "output_type": "execute_result"
    }
   ],
   "source": [
    "dr = DemandResponseProgram(\"RTP\")\n",
    "s = Scenario(dr_program=dr)\n",
    "\n",
    "dr.default_config[\"RTP\"]"
   ]
  },
  {
   "cell_type": "code",
   "execution_count": 12,
   "id": "96610bf6",
   "metadata": {},
   "outputs": [
    {
     "name": "stdout",
     "output_type": "stream",
     "text": [
      "[(0, 27), (83, 24), (131, 21), (143, 24), (215, 27)]\n"
     ]
    },
    {
     "data": {
      "text/plain": [
       "<AxesSubplot:>"
      ]
     },
     "execution_count": 12,
     "metadata": {},
     "output_type": "execute_result"
    },
    {
     "data": {
      "image/png": "[encoded data removed]",
      "text/plain": [
       "<Figure size 432x288 with 1 Axes>"
      ]
     },
     "metadata": {
      "needs_background": "light"
     },
     "output_type": "display_data"
    }
   ],
   "source": [
    "dr_start = hr_index(s.time_index, hr=12)\n",
    "\n",
    "precooling_start = dr_start - 12  # 5 min/step\n",
    "precooling_stop = dr_start\n",
    "\n",
    "setpoints = [\n",
    "    (0, 27),\n",
    "    (comfort_start, 24),\n",
    "    (precooling_start, 21), \n",
    "    (dr_start, 24),\n",
    "    (comfort_stop, 27)\n",
    "]\n",
    "\n",
    "\n",
    "print(setpoints)\n",
    "\n",
    "policy = RuleBasedControlPolicy(\n",
    "    setpoints=setpoints, num_steps=s.num_episode_steps,\n",
    "    cooling_p_flow=1., cooling_p_discharge_temp=.8)\n",
    "\n",
    "pd.DataFrame(policy.comfort_band).plot()"
   ]
  },
  {
   "cell_type": "code",
   "execution_count": null,
   "id": "5efb21b2",
   "metadata": {},
   "outputs": [],
   "source": []
  }
 ],
 "metadata": {
  "kernelspec": {
   "display_name": "Python 3 (ipykernel)",
   "language": "python",
   "name": "python3"
  },
  "language_info": {
   "codemirror_mode": {
    "name": "ipython",
    "version": 3
   },
   "file_extension": ".py",
   "mimetype": "text/x-python",
   "name": "python",
   "nbconvert_exporter": "python",
   "pygments_lexer": "ipython3",
   "version": "3.8.12"
  }
 },
 "nbformat": 4,
 "nbformat_minor": 5
}
