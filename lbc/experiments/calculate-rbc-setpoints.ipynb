{
 "cells": [
  {
   "cell_type": "code",
   "execution_count": 63,
   "id": "233139a8",
   "metadata": {},
   "outputs": [
    {
     "name": "stdout",
     "output_type": "stream",
     "text": [
      "The autoreload extension is already loaded. To reload it, use:\n",
      "  %reload_ext autoreload\n"
     ]
    }
   ],
   "source": [
    "import pickle\n",
    "\n",
    "import numpy as np\n",
    "import pandas as pd\n",
    "import matplotlib.pyplot as plt\n",
    "\n",
    "from lbc.scenario import Scenario\n",
    "from lbc.demand_response import DemandResponseProgram\n",
    "from lbc.policies import RBCPolicy\n",
    "\n",
    "%matplotlib inline\n",
    "%load_ext autoreload"
   ]
  },
  {
   "cell_type": "code",
   "execution_count": 64,
   "id": "ce2a2949",
   "metadata": {},
   "outputs": [],
   "source": [
    "def hr_index(index, hr):\n",
    "    return np.where(np.array([x.hour for x in index]) == hr)[0][0]"
   ]
  },
  {
   "cell_type": "markdown",
   "id": "0e68762a",
   "metadata": {},
   "source": [
    "# TOU"
   ]
  },
  {
   "cell_type": "code",
   "execution_count": 17,
   "id": "66473bcc",
   "metadata": {},
   "outputs": [],
   "source": [
    "dr = DemandResponseProgram(\"TOU\")\n",
    "s = Scenario(dr_program=dr)"
   ]
  },
  {
   "cell_type": "code",
   "execution_count": 10,
   "id": "fd664423",
   "metadata": {},
   "outputs": [
    {
     "data": {
      "text/plain": [
       "{'dr_start_time': '12:00:00',\n",
       " 'dr_end_time': '18:00:00',\n",
       " 'program_type': 'TOU',\n",
       " 'program_specific': {'tou_off_peak': 1.0, 'tou_peak': 10.0}}"
      ]
     },
     "execution_count": 10,
     "metadata": {},
     "output_type": "execute_result"
    }
   ],
   "source": [
    "dr.default_config[\"TOU\"]"
   ]
  },
  {
   "cell_type": "code",
   "execution_count": 12,
   "id": "cc00c589",
   "metadata": {},
   "outputs": [],
   "source": [
    "%autoreload 2\n",
    "from lbc.policies import RBCPolicy"
   ]
  },
  {
   "cell_type": "code",
   "execution_count": 19,
   "id": "3bb5cdda",
   "metadata": {},
   "outputs": [
    {
     "name": "stdout",
     "output_type": "stream",
     "text": [
      "[(0, 27), (83, 24), (131, 21), (143, 24), (215, 24), (215, 27)]\n"
     ]
    },
    {
     "data": {
      "text/plain": [
       "<AxesSubplot:>"
      ]
     },
     "execution_count": 19,
     "metadata": {},
     "output_type": "execute_result"
    },
    {
     "data": {
      "image/png": "[encoded data removed]",
      "text/plain": [
       "<Figure size 432x288 with 1 Axes>"
      ]
     },
     "metadata": {
      "needs_background": "light"
     },
     "output_type": "display_data"
    }
   ],
   "source": [
    "# Comfort start/stop applies to all DR programs\n",
    "comfort_start = hr_index(s.time_index, hr=7)\n",
    "comfort_stop = hr_index(s.time_index, hr=18)\n",
    "\n",
    "# DR start and stop indexes\n",
    "dr_start = hr_index(s.time_index, hr=12)\n",
    "dr_stop = hr_index(s.time_index, hr=18)\n",
    "\n",
    "# Precooling happens 1 hr before DR start\n",
    "precooling_start = dr_start - 12  # 5 min/step\n",
    "\n",
    "setpoints = [\n",
    "    (0, 27),\n",
    "    (comfort_start, 24),\n",
    "    (precooling_start, 21), \n",
    "    (dr_start, 24),\n",
    "    (dr_stop, 24),\n",
    "    (comfort_stop, 27)\n",
    "]\n",
    "\n",
    "print(setpoints)\n",
    "\n",
    "policy = RBCPolicy(\n",
    "    setpoints=setpoints, scenario=s, p_flow=1., p_temp=.8)\n",
    "\n",
    "pd.DataFrame(policy.comfort_band).plot()"
   ]
  },
  {
   "cell_type": "markdown",
   "id": "bb22c322",
   "metadata": {},
   "source": [
    "# PC"
   ]
  },
  {
   "cell_type": "code",
   "execution_count": 20,
   "id": "1c663917",
   "metadata": {},
   "outputs": [
    {
     "data": {
      "text/plain": [
       "{'dr_start_time': '13:00:00',\n",
       " 'dr_end_time': '17:00:00',\n",
       " 'program_type': 'PC',\n",
       " 'program_specific': {'p_limit_dr': 15.0,\n",
       "  'p_limit_nondr': 25.0,\n",
       "  'base_price': 1.0,\n",
       "  'pc_penalty': 10.0}}"
      ]
     },
     "execution_count": 20,
     "metadata": {},
     "output_type": "execute_result"
    }
   ],
   "source": [
    "dr = DemandResponseProgram(\"PC\")\n",
    "s = Scenario(dr_program=dr)\n",
    "\n",
    "dr.default_config[\"PC\"]"
   ]
  },
  {
   "cell_type": "code",
   "execution_count": 91,
   "id": "6846730f",
   "metadata": {},
   "outputs": [
    {
     "name": "stdout",
     "output_type": "stream",
     "text": [
      "[(0, 27), (35, 21), (155, 24), (203, 24), (215, 27)]\n"
     ]
    },
    {
     "data": {
      "text/plain": [
       "<AxesSubplot:>"
      ]
     },
     "execution_count": 91,
     "metadata": {},
     "output_type": "execute_result"
    },
    {
     "data": {
      "image/png": "[encoded data removed]",
      "text/plain": [
       "<Figure size 432x288 with 1 Axes>"
      ]
     },
     "metadata": {
      "needs_background": "light"
     },
     "output_type": "display_data"
    }
   ],
   "source": [
    "dr_start = hr_index(s.time_index, hr=13)\n",
    "dr_stop = hr_index(s.time_index, hr=17)\n",
    "\n",
    "precooling_start = dr_start - 120  # 5 min/step\n",
    "precooling_stop = dr_start\n",
    "\n",
    "setpoints = [\n",
    "    (0, 27),\n",
    "    #(comfort_start, 24),\n",
    "    (precooling_start, 21), \n",
    "    (dr_start, 24),\n",
    "    (dr_stop, 24),\n",
    "    (comfort_stop, 27)\n",
    "]\n",
    "\n",
    "print(setpoints)\n",
    "\n",
    "# policy = RuleBasedControlPolicy(\n",
    "#     setpoints=setpoints, num_steps=s.num_episode_steps,\n",
    "#     cooling_p_flow=1., cooling_p_discharge_temp=.8)\n",
    "\n",
    "policy = RBCPolicy(\n",
    "    setpoints=setpoints, scenario=s, p_flow=1., p_temp=.8)\n",
    "\n",
    "pd.DataFrame(policy.comfort_band).plot()"
   ]
  },
  {
   "cell_type": "markdown",
   "id": "b1851630",
   "metadata": {},
   "source": [
    "# RTP"
   ]
  },
  {
   "cell_type": "code",
   "execution_count": 22,
   "id": "64d55b52",
   "metadata": {},
   "outputs": [
    {
     "data": {
      "text/plain": [
       "{'program_type': 'RTP', 'program_specific': {}}"
      ]
     },
     "execution_count": 22,
     "metadata": {},
     "output_type": "execute_result"
    }
   ],
   "source": [
    "dr = DemandResponseProgram(\"RTP\")\n",
    "s = Scenario(dr_program=dr)\n",
    "\n",
    "dr.default_config[\"RTP\"]"
   ]
  },
  {
   "cell_type": "code",
   "execution_count": 65,
   "id": "96610bf6",
   "metadata": {},
   "outputs": [
    {
     "name": "stdout",
     "output_type": "stream",
     "text": [
      "[(0, 27), (83, 24), (131, 21), (143, 24), (215, 27)]\n"
     ]
    },
    {
     "data": {
      "text/plain": [
       "<AxesSubplot:>"
      ]
     },
     "execution_count": 65,
     "metadata": {},
     "output_type": "execute_result"
    },
    {
     "data": {
      "image/png": "[encoded data removed]",
      "text/plain": [
       "<Figure size 432x288 with 1 Axes>"
      ]
     },
     "metadata": {
      "needs_background": "light"
     },
     "output_type": "display_data"
    }
   ],
   "source": [
    "dr_start = hr_index(s.time_index, hr=12)\n",
    "\n",
    "precooling_start = dr_start - 12  # 5 min/step\n",
    "precooling_stop = dr_start\n",
    "\n",
    "setpoints = [\n",
    "    (0, 27),\n",
    "    (comfort_start, 24),\n",
    "    (precooling_start, 21), \n",
    "    (dr_start, 24),\n",
    "    (comfort_stop, 27)\n",
    "]\n",
    "\n",
    "\n",
    "print(setpoints)\n",
    "\n",
    "# policy = RuleBasedControlPolicy(\n",
    "#     setpoints=setpoints, num_steps=s.num_episode_steps,\n",
    "#     cooling_p_flow=1., cooling_p_discharge_temp=.8)\n",
    "\n",
    "policy = RBCPolicy(\n",
    "    setpoints=setpoints, scenario=s, p_flow=1., p_temp=.8)\n",
    "\n",
    "pd.DataFrame(policy.comfort_band).plot()"
   ]
  },
  {
   "cell_type": "markdown",
   "id": "503f2099",
   "metadata": {},
   "source": [
    "# Use the runner to tune power of pre-cooling"
   ]
  },
  {
   "cell_type": "code",
   "execution_count": 117,
   "id": "ac0104a9",
   "metadata": {},
   "outputs": [],
   "source": [
    "%autoreload 2\n",
    "from lbc.experiments import RBCRunner"
   ]
  },
  {
   "cell_type": "code",
   "execution_count": 118,
   "id": "d5f60023",
   "metadata": {},
   "outputs": [],
   "source": [
    "%autoreload 2\n",
    "from lbc.experiments.config import RBC_SETPOINTS"
   ]
  },
  {
   "cell_type": "code",
   "execution_count": 119,
   "id": "9e2ff8f4",
   "metadata": {},
   "outputs": [],
   "source": [
    "from lbc.analysis import plot_stats"
   ]
  },
  {
   "cell_type": "code",
   "execution_count": 120,
   "id": "4bf1dbe7",
   "metadata": {},
   "outputs": [
    {
     "data": {
      "text/plain": [
       "{'policy_type': 'RBC',\n",
       " 'policy_config': {'setpoints': [(0, 27),\n",
       "   (0, 21),\n",
       "   (155, 26),\n",
       "   (203, 26),\n",
       "   (215, 28)],\n",
       "  'p_flow': 1.0,\n",
       "  'p_temp': 0.8},\n",
       " 'batch_size': 31,\n",
       " 'dr_program': 'PC',\n",
       " 'scenario_config': {'start_time': '00:05:00',\n",
       "  'end_time': '23:55:00',\n",
       "  'zone_temp_init_mean': 26.0,\n",
       "  'dr_program': <lbc.demand_response.DemandResponseProgram at 0x7f8cc1309b80>},\n",
       " 'results_dir': '/projects/aumc/dave/learning-building-control/lbc/experiments/results-PC',\n",
       " 'dry_run': 0,\n",
       " 'name_ext': None,\n",
       " 'p_flow': 1.0,\n",
       " 'p_temp': 0.8}"
      ]
     },
     "execution_count": 120,
     "metadata": {},
     "output_type": "execute_result"
    }
   ],
   "source": [
    "with open(\"/projects/aumc/learning-building-control/results-PC/RBC-PC-1.000-0.800.p\", \"rb\") as f:\n",
    "    data = pickle.load(f)\n",
    "    \n",
    "data[\"config\"][\"policy_config\"][\"setpoints\"] = RBC_SETPOINTS[\"PC\"]\n",
    "data[\"config\"]"
   ]
  },
  {
   "cell_type": "code",
   "execution_count": 123,
   "id": "babe12b5",
   "metadata": {},
   "outputs": [
    {
     "name": "stdout",
     "output_type": "stream",
     "text": [
      "0.0 0.0 24522.084 89352.38\n",
      "0.0 0.1111111111111111 21447.736 91056.12\n",
      "0.0 0.2222222222222222 18671.266 92730.516\n",
      "0.0 0.3333333333333333 16172.233 94396.38\n",
      "0.0 0.4444444444444444 13941.399 96033.99\n",
      "0.0 0.5555555555555556 11966.813 97653.72\n",
      "0.0 0.6666666666666666 10248.401 99237.19\n",
      "0.0 0.7777777777777777 8787.909 100774.52\n",
      "0.0 0.8888888888888888 7575.973 102244.12\n",
      "0.0 1.0 6559.426 103641.984\n",
      "0.03333333333333333 0.0 14541.117 97862.87\n",
      "0.03333333333333333 0.1111111111111111 12189.98 99764.74\n",
      "0.03333333333333333 0.2222222222222222 10200.301 101561.64\n",
      "0.03333333333333333 0.3333333333333333 8585.208 103225.18\n",
      "0.03333333333333333 0.4444444444444444 7287.846 104720.38\n",
      "0.03333333333333333 0.5555555555555556 6243.5435 106106.54\n",
      "0.03333333333333333 0.6666666666666666 5428.739 107404.57\n",
      "0.03333333333333333 0.7777777777777777 4790.25 108674.695\n",
      "0.03333333333333333 0.8888888888888888 4294.5347 109872.27\n",
      "0.03333333333333333 1.0 3871.4866 111048.69\n",
      "0.06666666666666667 0.0 9333.462 105327.68\n",
      "0.06666666666666667 0.1111111111111111 7824.842 107015.65\n",
      "0.06666666666666667 0.2222222222222222 6622.908 108496.63\n",
      "0.06666666666666667 0.3333333333333333 5666.2314 109920.65\n",
      "0.06666666666666667 0.4444444444444444 4911.5093 111285.95\n",
      "0.06666666666666667 0.5555555555555556 4265.3804 112596.93\n",
      "0.06666666666666667 0.6666666666666666 3695.8054 113928.15\n",
      "0.06666666666666667 0.7777777777777777 3198.1763 115271.65\n",
      "0.06666666666666667 0.8888888888888888 2761.0505 116688.586\n",
      "0.06666666666666667 1.0 2387.4993 118118.914\n",
      "0.1 0.0 7114.195 111215.414\n",
      "0.1 0.1111111111111111 5952.4253 112745.836\n",
      "0.1 0.2222222222222222 5003.031 114212.81\n",
      "0.1 0.3333333333333333 4143.261 115658.82\n",
      "0.1 0.4444444444444444 3409.8115 117143.73\n",
      "0.1 0.5555555555555556 2802.133 118693.445\n",
      "0.1 0.6666666666666666 2376.0857 120309.16\n",
      "0.1 0.7777777777777777 2020.0259 121905.12\n",
      "0.1 0.8888888888888888 1751.0104 123507.86\n",
      "0.1 1.0 1554.8289 125084.12\n",
      "0.13333333333333333 0.0 5667.3027 116350.89\n",
      "0.13333333333333333 0.1111111111111111 4532.1436 117943.6\n",
      "0.13333333333333333 0.2222222222222222 3536.678 119576.11\n",
      "0.13333333333333333 0.3333333333333333 2762.2368 121288.62\n",
      "0.13333333333333333 0.4444444444444444 2300.6768 123064.664\n",
      "0.13333333333333333 0.5555555555555556 1925.7369 124820.13\n",
      "0.13333333333333333 0.6666666666666666 1688.6669 126567.98\n",
      "0.13333333333333333 0.7777777777777777 1528.4337 128249.88\n",
      "0.13333333333333333 0.8888888888888888 1431.136 129833.04\n",
      "0.13333333333333333 1.0 1327.29 131293.58\n",
      "0.16666666666666666 0.0 4234.705 121290.43\n",
      "0.16666666666666666 0.1111111111111111 3192.5422 123139.52\n",
      "0.16666666666666666 0.2222222222222222 2539.1401 125045.62\n",
      "0.16666666666666666 0.3333333333333333 2167.8918 126989.8\n",
      "0.16666666666666666 0.4444444444444444 1995.6196 128858.49\n",
      "0.16666666666666666 0.5555555555555556 1903.5768 130660.04\n",
      "0.16666666666666666 0.6666666666666666 1869.3279 132342.42\n",
      "0.16666666666666666 0.7777777777777777 1797.7192 133885.12\n",
      "0.16666666666666666 0.8888888888888888 1747.1932 135255.42\n",
      "0.16666666666666666 1.0 1779.9211 136518.81\n",
      "0.2 0.0 3278.1692 126351.5\n",
      "0.2 0.1111111111111111 2732.5676 128443.24\n",
      "0.2 0.2222222222222222 2682.9214 130506.66\n",
      "0.2 0.3333333333333333 2735.2407 132450.33\n",
      "0.2 0.4444444444444444 2820.9507 134275.47\n",
      "0.2 0.5555555555555556 2857.6423 135950.1\n",
      "0.2 0.6666666666666666 2776.527 137401.33\n",
      "0.2 0.7777777777777777 2939.7625 138715.47\n",
      "0.2 0.8888888888888888 2983.7344 139979.72\n",
      "0.2 1.0 3063.1025 141177.84\n",
      "0.23333333333333334 0.0 3611.674 131504.55\n",
      "0.23333333333333334 0.1111111111111111 3916.6592 133688.94\n",
      "0.23333333333333334 0.2222222222222222 4334.8457 135724.84\n",
      "0.23333333333333334 0.3333333333333333 4555.9165 137548.16\n",
      "0.23333333333333334 0.4444444444444444 4581.349 139178.0\n",
      "0.23333333333333334 0.5555555555555556 4749.338 140563.6\n",
      "0.23333333333333334 0.6666666666666666 4947.511 141875.0\n",
      "0.23333333333333334 0.7777777777777777 5186.924 143122.6\n",
      "0.23333333333333334 0.8888888888888888 5509.081 144269.31\n",
      "0.23333333333333334 1.0 6103.784 145255.94\n",
      "0.26666666666666666 0.0 6072.4272 136606.75\n",
      "0.26666666666666666 0.1111111111111111 6836.119 138694.45\n",
      "0.26666666666666666 0.2222222222222222 7211.581 140569.02\n",
      "0.26666666666666666 0.3333333333333333 7234.368 142144.47\n",
      "0.26666666666666666 0.4444444444444444 7717.5503 143516.4\n",
      "0.26666666666666666 0.5555555555555556 8028.129 144817.86\n",
      "0.26666666666666666 0.6666666666666666 8685.204 146052.02\n",
      "0.26666666666666666 0.7777777777777777 9433.062 147069.72\n",
      "0.26666666666666666 0.8888888888888888 10469.199 147930.69\n",
      "0.26666666666666666 1.0 11707.981 148382.23\n",
      "0.3 0.0 10395.104 141471.72\n",
      "0.3 0.1111111111111111 11071.56 143404.27\n",
      "0.3 0.2222222222222222 11105.385 144975.17\n",
      "0.3 0.3333333333333333 11541.447 146291.9\n",
      "0.3 0.4444444444444444 12209.726 147584.72\n",
      "0.3 0.5555555555555556 13326.602 148785.05\n",
      "0.3 0.6666666666666666 14681.611 149729.6\n",
      "0.3 0.7777777777777777 16418.271 150438.95\n",
      "0.3 0.8888888888888888 17851.36 150543.12\n",
      "0.3 1.0 19173.592 150166.94\n"
     ]
    }
   ],
   "source": [
    "results = {}\n",
    "rollouts = {}\n",
    "for p_flow in np.linspace(0, .3, 10):\n",
    "    for p_temp in np.linspace(0, 1, 10):\n",
    "        config = data[\"config\"].copy()\n",
    "        config[\"policy_config\"][\"p_flow\"] = p_flow\n",
    "        config[\"policy_config\"][\"p_temp\"] = p_temp\n",
    "        runner = RBCRunner(**config)\n",
    "        loss, rollout, meta = runner.run_policy()\n",
    "        loss = loss.mean().detach().numpy()\n",
    "        power = rollout.data[\"total_power\"].sum()\n",
    "        results[(p_flow, p_temp)] = (loss, power)\n",
    "        rollouts[(p_flow, p_temp)] = rollout\n",
    "        print(p_flow, p_temp, loss, power)"
   ]
  },
  {
   "cell_type": "code",
   "execution_count": 112,
   "id": "9964383c",
   "metadata": {},
   "outputs": [],
   "source": [
    "# for key, rollout in rollouts.items():\n",
    "#     fig, ax = plot_stats(rollout, \"total_power\")\n",
    "#     ax.set_title(key)"
   ]
  },
  {
   "cell_type": "code",
   "execution_count": 113,
   "id": "a97c0ad4",
   "metadata": {},
   "outputs": [
    {
     "data": {
      "text/plain": [
       "(9, array(6062.4844, dtype=float32))"
      ]
     },
     "execution_count": 113,
     "metadata": {},
     "output_type": "execute_result"
    }
   ],
   "source": [
    "x = [x[0] for x in list(results.values())]\n",
    "np.argmin(x), min(x)"
   ]
  },
  {
   "cell_type": "code",
   "execution_count": 114,
   "id": "b55b3e96",
   "metadata": {},
   "outputs": [
    {
     "data": {
      "text/plain": [
       "(0.0, 1.0)"
      ]
     },
     "execution_count": 114,
     "metadata": {},
     "output_type": "execute_result"
    }
   ],
   "source": [
    "list(results.keys())[9]"
   ]
  },
  {
   "cell_type": "code",
   "execution_count": 115,
   "id": "a445442e",
   "metadata": {},
   "outputs": [
    {
     "data": {
      "text/plain": [
       "(<Figure size 360x216 with 1 Axes>, <AxesSubplot:xlabel='Date/Time'>)"
      ]
     },
     "execution_count": 115,
     "metadata": {},
     "output_type": "execute_result"
    },
    {
     "data": {
      "image/png": "[encoded data removed]",
      "text/plain": [
       "<Figure size 360x216 with 1 Axes>"
      ]
     },
     "metadata": {
      "needs_background": "light"
     },
     "output_type": "display_data"
    }
   ],
   "source": [
    "plot_stats(rollouts[(0.0, 1.0)], \"total_power\")"
   ]
  },
  {
   "cell_type": "code",
   "execution_count": 116,
   "id": "0d930e98",
   "metadata": {},
   "outputs": [
    {
     "data": {
      "text/plain": [
       "(<Figure size 360x216 with 1 Axes>, <AxesSubplot:xlabel='Date/Time'>)"
      ]
     },
     "execution_count": 116,
     "metadata": {},
     "output_type": "execute_result"
    },
    {
     "data": {
      "image/png": "[encoded data removed]",
      "text/plain": [
       "<Figure size 360x216 with 1 Axes>"
      ]
     },
     "metadata": {
      "needs_background": "light"
     },
     "output_type": "display_data"
    }
   ],
   "source": [
    "plot_stats(rollouts[(0.0, 1.0)], \"zone_temp\")"
   ]
  },
  {
   "cell_type": "code",
   "execution_count": null,
   "id": "97354323",
   "metadata": {},
   "outputs": [],
   "source": []
  }
 ],
 "metadata": {
  "kernelspec": {
   "display_name": "Python 3 (ipykernel)",
   "language": "python",
   "name": "python3"
  },
  "language_info": {
   "codemirror_mode": {
    "name": "ipython",
    "version": 3
   },
   "file_extension": ".py",
   "mimetype": "text/x-python",
   "name": "python",
   "nbconvert_exporter": "python",
   "pygments_lexer": "ipython3",
   "version": "3.8.12"
  }
 },
 "nbformat": 4,
 "nbformat_minor": 5
}
