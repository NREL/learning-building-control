{
 "cells": [
  {
   "cell_type": "code",
   "execution_count": 1,
   "id": "aebb7ff0",
   "metadata": {},
   "outputs": [],
   "source": [
    "import numpy as np\n",
    "import pandas as pd\n",
    "import matplotlib.pyplot as plt\n",
    "\n",
    "%matplotlib inline"
   ]
  },
  {
   "cell_type": "markdown",
   "id": "eb44dc41",
   "metadata": {},
   "source": [
    "Used the chart on page 7 of this document: https://www.ashrae.org/file%20library/technical%20resources/standards%20and%20guidelines/standards%20addenda/55_2017_d_20200731.pdf\n",
    "\n",
    "To derive occupied limits of [20, 24] C.\n",
    "\n",
    "Let's assume unoccupied limits are [16, 28] C ?"
   ]
  },
  {
   "cell_type": "code",
   "execution_count": 27,
   "id": "90e8aa10",
   "metadata": {},
   "outputs": [
    {
     "data": {
      "text/plain": [
       "289"
      ]
     },
     "execution_count": 27,
     "metadata": {},
     "output_type": "execute_result"
    }
   ],
   "source": [
    "times = pd.date_range(start=\"2022-01-01 00:00:00\", end=\"2022-01-02 00:00:00\", freq=\"300s\")\n",
    "len(times)"
   ]
  },
  {
   "cell_type": "code",
   "execution_count": 28,
   "id": "b0e58352",
   "metadata": {},
   "outputs": [
    {
     "data": {
      "text/html": [
       "<div>\n",
       "<style scoped>\n",
       "    .dataframe tbody tr th:only-of-type {\n",
       "        vertical-align: middle;\n",
       "    }\n",
       "\n",
       "    .dataframe tbody tr th {\n",
       "        vertical-align: top;\n",
       "    }\n",
       "\n",
       "    .dataframe thead th {\n",
       "        text-align: right;\n",
       "    }\n",
       "</style>\n",
       "<table border=\"1\" class=\"dataframe\">\n",
       "  <thead>\n",
       "    <tr style=\"text-align: right;\">\n",
       "      <th></th>\n",
       "      <th>comfort_min</th>\n",
       "      <th>comfort_max</th>\n",
       "    </tr>\n",
       "  </thead>\n",
       "  <tbody>\n",
       "    <tr>\n",
       "      <th>2022-01-01 00:00:00</th>\n",
       "      <td>26.0</td>\n",
       "      <td>27.0</td>\n",
       "    </tr>\n",
       "    <tr>\n",
       "      <th>2022-01-01 00:05:00</th>\n",
       "      <td>26.0</td>\n",
       "      <td>27.0</td>\n",
       "    </tr>\n",
       "    <tr>\n",
       "      <th>2022-01-01 00:10:00</th>\n",
       "      <td>26.0</td>\n",
       "      <td>27.0</td>\n",
       "    </tr>\n",
       "    <tr>\n",
       "      <th>2022-01-01 00:15:00</th>\n",
       "      <td>26.0</td>\n",
       "      <td>27.0</td>\n",
       "    </tr>\n",
       "    <tr>\n",
       "      <th>2022-01-01 00:20:00</th>\n",
       "      <td>26.0</td>\n",
       "      <td>27.0</td>\n",
       "    </tr>\n",
       "  </tbody>\n",
       "</table>\n",
       "</div>"
      ],
      "text/plain": [
       "                     comfort_min  comfort_max\n",
       "2022-01-01 00:00:00         26.0         27.0\n",
       "2022-01-01 00:05:00         26.0         27.0\n",
       "2022-01-01 00:10:00         26.0         27.0\n",
       "2022-01-01 00:15:00         26.0         27.0\n",
       "2022-01-01 00:20:00         26.0         27.0"
      ]
     },
     "execution_count": 28,
     "metadata": {},
     "output_type": "execute_result"
    }
   ],
   "source": [
    "# # General control problem\n",
    "# occ = (20, 24.5)\n",
    "# unocc = (16, 28)\n",
    "\n",
    "# # Rule based control problem\n",
    "occ = (23, 24)\n",
    "unocc = (26, 27)\n",
    "\n",
    "lower = unocc[0] * np.ones(len(times))\n",
    "upper = unocc[1] * np.ones(len(times))\n",
    "data = np.stack((lower, upper)).T\n",
    "\n",
    "df = pd.DataFrame(data=data, index=times, columns=[\"comfort_min\", \"comfort_max\"])\n",
    "df[\"comfort_min\"][\"2022-01-01 07:00:00\":\"2022-01-01 18:00:00\"] = occ[0]\n",
    "df[\"comfort_max\"][\"2022-01-01 07:00:00\":\"2022-01-01 18:00:00\"] = occ[1]\n",
    "df.head()"
   ]
  },
  {
   "cell_type": "code",
   "execution_count": 29,
   "id": "97528ff6",
   "metadata": {},
   "outputs": [
    {
     "data": {
      "text/plain": [
       "<AxesSubplot:>"
      ]
     },
     "execution_count": 29,
     "metadata": {},
     "output_type": "execute_result"
    },
    {
     "data": {
      "image/png": "[encoded data removed]",
      "text/plain": [
       "<Figure size 432x288 with 1 Axes>"
      ]
     },
     "metadata": {
      "needs_background": "light"
     },
     "output_type": "display_data"
    }
   ],
   "source": [
    "df.plot()"
   ]
  },
  {
   "cell_type": "code",
   "execution_count": 30,
   "id": "b63cca19",
   "metadata": {},
   "outputs": [],
   "source": [
    "df.to_csv(\"./comfort-band-rbc.csv\")"
   ]
  },
  {
   "cell_type": "code",
   "execution_count": null,
   "id": "f2897acd",
   "metadata": {},
   "outputs": [],
   "source": []
  },
  {
   "cell_type": "code",
   "execution_count": null,
   "id": "efb3578e",
   "metadata": {},
   "outputs": [],
   "source": []
  },
  {
   "cell_type": "code",
   "execution_count": null,
   "id": "94c2240e",
   "metadata": {},
   "outputs": [],
   "source": []
  }
 ],
 "metadata": {
  "kernelspec": {
   "display_name": "Python 3 (ipykernel)",
   "language": "python",
   "name": "python3"
  },
  "language_info": {
   "codemirror_mode": {
    "name": "ipython",
    "version": 3
   },
   "file_extension": ".py",
   "mimetype": "text/x-python",
   "name": "python",
   "nbconvert_exporter": "python",
   "pygments_lexer": "ipython3",
   "version": "3.8.12"
  }
 },
 "nbformat": 4,
 "nbformat_minor": 5
}
