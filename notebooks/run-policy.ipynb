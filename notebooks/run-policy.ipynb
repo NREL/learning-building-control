{
 "cells": [
  {
   "cell_type": "code",
   "execution_count": null,
   "id": "ed6eae81",
   "metadata": {},
   "outputs": [],
   "source": [
    "import sys\n",
    "\n",
    "import pandas as pd\n",
    "import numpy as np\n",
    "import matplotlib.pyplot as plt\n",
    "\n",
    "%matplotlib inline\n",
    "%load_ext autoreload"
   ]
  },
  {
   "cell_type": "code",
   "execution_count": null,
   "id": "f314481e",
   "metadata": {},
   "outputs": [],
   "source": [
    "%autoreload 2\n",
    "from lbc.analysis import run_analysis, plot_costs"
   ]
  },
  {
   "cell_type": "code",
   "execution_count": null,
   "id": "89208d21",
   "metadata": {},
   "outputs": [],
   "source": [
    "%autoreload 2\n",
    "from lbc.experiments import (\n",
    "    DPCRunner, MPCOneShotRunner, MPCRunner, RLCRunner, CPLRunner, RBCRunner)"
   ]
  },
  {
   "cell_type": "code",
   "execution_count": null,
   "id": "e46079a8",
   "metadata": {},
   "outputs": [],
   "source": [
    "%autoreload 2\n",
    "from lbc.experiments.config import get_config, SCENARIO_TEST"
   ]
  },
  {
   "cell_type": "code",
   "execution_count": null,
   "id": "12bdf24a",
   "metadata": {},
   "outputs": [],
   "source": [
    "# COMMON CONFIG used by all policies.\n",
    "common = {\n",
    "    \"dr_program\": \"PC\",\n",
    "    \"batch_size\": 3,\n",
    "    \"results_dir\": \"./_scratch\",\n",
    "    # \"scenario_config\": SCENARIO_TEST  # this is how you would run the shorter test scenario\n",
    "}"
   ]
  },
  {
   "cell_type": "markdown",
   "id": "2cd28919",
   "metadata": {},
   "source": [
    "# MPCOneShot"
   ]
  },
  {
   "cell_type": "code",
   "execution_count": null,
   "id": "8c46294a",
   "metadata": {},
   "outputs": [],
   "source": [
    "config = get_config(\"MPCOneShot\", **common)\n",
    "config"
   ]
  },
  {
   "cell_type": "code",
   "execution_count": null,
   "id": "9887df5b",
   "metadata": {
    "scrolled": false
   },
   "outputs": [],
   "source": [
    "runner0 = MPCOneShotRunner(**config)\n",
    "loss0, rollout0, meta0 = runner0.run()"
   ]
  },
  {
   "cell_type": "code",
   "execution_count": null,
   "id": "a3f2113d",
   "metadata": {},
   "outputs": [],
   "source": [
    "# As a sanity check, we can compare the planned zone temp in MPC and \n",
    "# the realized (rollout) zone temp.  They should be quite close since\n",
    "# MPC has an idealized model of dynamics and exogenous variables.\n",
    "\n",
    "df = meta0[\"df\"][0]\n",
    "z1 = df[[x for x in df.columns if x.startswith(\"zone_temp\")]]\n",
    "\n",
    "z2 = rollout0.data[\"zone_temp\"][:, 0, :].squeeze()\n",
    "\n",
    "relerr = np.linalg.norm(z1-z2) / np.linalg.norm(z1) * 100.\n",
    "print(f\"relative error: {relerr:.1f}%\")"
   ]
  },
  {
   "cell_type": "code",
   "execution_count": null,
   "id": "61c407e4",
   "metadata": {},
   "outputs": [],
   "source": [
    "# _, df, figs = run_analysis(rollout0, dr, secondary=True)"
   ]
  },
  {
   "cell_type": "code",
   "execution_count": null,
   "id": "77e1f8e1",
   "metadata": {},
   "outputs": [],
   "source": [
    "# _ = plot_costs(rollout0, secondary=\"pc_limit\")"
   ]
  },
  {
   "cell_type": "markdown",
   "id": "8635db50",
   "metadata": {},
   "source": [
    "# MPC"
   ]
  },
  {
   "cell_type": "code",
   "execution_count": null,
   "id": "68a50a72",
   "metadata": {},
   "outputs": [],
   "source": [
    "config = get_config(\"MPC\", **common)\n",
    "config"
   ]
  },
  {
   "cell_type": "code",
   "execution_count": null,
   "id": "ce02cad5",
   "metadata": {
    "scrolled": false
   },
   "outputs": [],
   "source": [
    "runner1 = MPCRunner(**config)\n",
    "loss1, rollout1, meta1 = runner1.run()"
   ]
  },
  {
   "cell_type": "code",
   "execution_count": null,
   "id": "834a88a2",
   "metadata": {},
   "outputs": [],
   "source": [
    "# _, df, figs = run_analysis(rollout1, dr, secondary=True)"
   ]
  },
  {
   "cell_type": "code",
   "execution_count": null,
   "id": "20c0d036",
   "metadata": {},
   "outputs": [],
   "source": [
    "# _ = plot_costs(rollout1, secondary=\"pc_limit\")"
   ]
  },
  {
   "cell_type": "markdown",
   "id": "fae825cd",
   "metadata": {},
   "source": [
    "# CPL - No learning"
   ]
  },
  {
   "cell_type": "code",
   "execution_count": null,
   "id": "bff1b285",
   "metadata": {},
   "outputs": [],
   "source": [
    "config = get_config(\"CPL\", **common)\n",
    "config"
   ]
  },
  {
   "cell_type": "code",
   "execution_count": null,
   "id": "b125738f",
   "metadata": {
    "scrolled": false
   },
   "outputs": [],
   "source": [
    "runner2 = CPLRunner(**config)\n",
    "\n",
    "# This runs the policy without training (q and Q_sqrt are 0)\n",
    "loss2, rollout2, meta2 = runner2.run()"
   ]
  },
  {
   "cell_type": "code",
   "execution_count": null,
   "id": "63442884",
   "metadata": {},
   "outputs": [],
   "source": [
    "# _, df, figs = run_analysis(rollout2, dr, secondary=True)"
   ]
  },
  {
   "cell_type": "code",
   "execution_count": null,
   "id": "017b63cf",
   "metadata": {},
   "outputs": [],
   "source": [
    "# _ = plot_costs(rollout2, secondary=\"pc_limit\")"
   ]
  },
  {
   "cell_type": "markdown",
   "id": "c22e86b6",
   "metadata": {},
   "source": [
    "# CPL - Learning"
   ]
  },
  {
   "cell_type": "code",
   "execution_count": null,
   "id": "dbd828a6",
   "metadata": {},
   "outputs": [],
   "source": [
    "config = get_config(\"CPL\", **common)\n",
    "config"
   ]
  },
  {
   "cell_type": "code",
   "execution_count": null,
   "id": "5d79007f",
   "metadata": {},
   "outputs": [],
   "source": [
    "# Set config params for learning\n",
    "config[\"policy_config\"][\"use_value_function\"] = 1\n",
    "config[\"policy_config\"][\"num_time_windows\"] = 24\n",
    "config[\"policy_config\"][\"lr\"] = 1\n",
    "config[\"policy_config\"][\"num_epochs\"] = 1  # increase this if truly trying to train\n",
    "config"
   ]
  },
  {
   "cell_type": "code",
   "execution_count": null,
   "id": "d3425c47",
   "metadata": {
    "scrolled": false
   },
   "outputs": [],
   "source": [
    "runner3 = CPLRunner(**config)\n",
    "\n",
    "# Note the use of train_policy() rather than run()\n",
    "loss3, rollout3, meta3 = runner3.train_policy()"
   ]
  },
  {
   "cell_type": "code",
   "execution_count": null,
   "id": "0a0184c4",
   "metadata": {},
   "outputs": [],
   "source": [
    "_ = runner3.run()"
   ]
  },
  {
   "cell_type": "code",
   "execution_count": null,
   "id": "897b4e02",
   "metadata": {},
   "outputs": [],
   "source": [
    "# _, df, figs = run_analysis(rollout3, dr, secondary=True)"
   ]
  },
  {
   "cell_type": "code",
   "execution_count": null,
   "id": "9768e699",
   "metadata": {},
   "outputs": [],
   "source": [
    "# _ = plot_costs(rollout3, secondary=\"pc_limit\")"
   ]
  },
  {
   "cell_type": "markdown",
   "id": "6954ee5d",
   "metadata": {},
   "source": [
    "# DPC"
   ]
  },
  {
   "cell_type": "code",
   "execution_count": null,
   "id": "062d93d2",
   "metadata": {},
   "outputs": [],
   "source": [
    "config = get_config(\"DPC\", **common)\n",
    "config[\"policy_config\"][\"model_config\"][\"num_time_windows\"] = 96\n",
    "config[\"policy_config\"][\"num_epochs\"] = 10\n",
    "config[\"policy_config\"][\"lr\"] = 1e-2\n",
    "config"
   ]
  },
  {
   "cell_type": "code",
   "execution_count": null,
   "id": "b306058f",
   "metadata": {
    "scrolled": false
   },
   "outputs": [],
   "source": [
    "runner4 = DPCRunner(**config)\n",
    "loss4, rollout4, meta4 = runner4.train_policy()"
   ]
  },
  {
   "cell_type": "code",
   "execution_count": null,
   "id": "ce3ccc29",
   "metadata": {},
   "outputs": [],
   "source": [
    "l4, r4, m4 = runner4.run()"
   ]
  },
  {
   "cell_type": "code",
   "execution_count": null,
   "id": "c0f99a61",
   "metadata": {},
   "outputs": [],
   "source": [
    "# fig, ax = plt.subplots()\n",
    "# _ = pd.DataFrame(_meta4[\"losses\"], columns=[\"train loss\"]).plot(ax=ax)\n",
    "# _ = pd.DataFrame(_meta4[\"test_losses\"], columns=[\"test loss\"]).plot(ax=ax)"
   ]
  },
  {
   "cell_type": "code",
   "execution_count": null,
   "id": "ea0c0da8",
   "metadata": {},
   "outputs": [],
   "source": [
    "# _, df, figs = run_analysis(rollout4, dr, secondary=True)"
   ]
  },
  {
   "cell_type": "code",
   "execution_count": null,
   "id": "a3ad9f74",
   "metadata": {},
   "outputs": [],
   "source": [
    "# _ = plot_costs(rollout4, secondary=\"pc_limit\")"
   ]
  },
  {
   "cell_type": "markdown",
   "id": "211b2354",
   "metadata": {},
   "source": [
    "Code below can be used to validate that MPC cost matches actions from other policies."
   ]
  },
  {
   "cell_type": "code",
   "execution_count": null,
   "id": "32effa6c",
   "metadata": {},
   "outputs": [],
   "source": [
    "# Verify that running the DPC actions through MPCOneShot yields the same cost.\n",
    "# This helps validate consistency between the models in terms of both dynamics\n",
    "# and cost. We do this by adding hard constraints that MPC actions == DPC actions \n",
    "# and run the MPC model again.\n",
    "# config = get_config(\"MPCOneShot\", **common)\n",
    "# config[\"policy_config\"][\"action_sequence\"] = r4.data[\"clipped_action\"].copy()\n",
    "\n",
    "# runner0 = MPCOneShotRunner(**config)\n",
    "# l0, r0, m0 = runner0.run()\n",
    "\n",
    "# Compare the loss computed in MPCOneShot using DPC actions"
   ]
  },
  {
   "cell_type": "code",
   "execution_count": null,
   "id": "c77814b5",
   "metadata": {},
   "outputs": [],
   "source": [
    "# print(\"DPC loss:      \", l4.mean().item())\n",
    "# print(\"MPCOneShotLoss:\", l0.mean().item())"
   ]
  },
  {
   "cell_type": "markdown",
   "id": "43a76ba1",
   "metadata": {},
   "source": [
    "# RLC"
   ]
  },
  {
   "cell_type": "code",
   "execution_count": null,
   "id": "09137020",
   "metadata": {
    "scrolled": false
   },
   "outputs": [],
   "source": [
    "config = get_config(\"RLC\", **common)\n",
    "\n",
    "# Shut down ray in case it's still running, fail silently\n",
    "try:\n",
    "    import ray\n",
    "    ray.shutdown()\n",
    "except:\n",
    "    pass\n",
    "\n",
    "runner5 = RLCRunner(**config)\n",
    "loss5, rollout5, meta5 = runner5.run()"
   ]
  },
  {
   "cell_type": "code",
   "execution_count": null,
   "id": "ca8477ce",
   "metadata": {},
   "outputs": [],
   "source": [
    "#_, df, figs = run_analysis(rollout5, dr, secondary=True)"
   ]
  },
  {
   "cell_type": "code",
   "execution_count": null,
   "id": "562cf5eb",
   "metadata": {},
   "outputs": [],
   "source": [
    "# _ = plot_costs(rollout5, secondary=\"pc_limit\")"
   ]
  },
  {
   "cell_type": "markdown",
   "id": "3705de0a",
   "metadata": {},
   "source": [
    "# RBC"
   ]
  },
  {
   "cell_type": "code",
   "execution_count": null,
   "id": "c40484a9",
   "metadata": {},
   "outputs": [],
   "source": [
    "config = get_config(\"RBC\", **common)\n",
    "config"
   ]
  },
  {
   "cell_type": "code",
   "execution_count": null,
   "id": "80bd0cbf",
   "metadata": {},
   "outputs": [],
   "source": [
    "runner6 = RBCRunner(**config)\n",
    "loss6, rollout6, meta6 = runner6.run()"
   ]
  },
  {
   "cell_type": "code",
   "execution_count": null,
   "id": "98a3d0e0",
   "metadata": {},
   "outputs": [],
   "source": []
  },
  {
   "cell_type": "code",
   "execution_count": null,
   "id": "5b6a301a",
   "metadata": {},
   "outputs": [],
   "source": []
  }
 ],
 "metadata": {
  "kernelspec": {
   "display_name": "Python 3 (ipykernel)",
   "language": "python",
   "name": "python3"
  },
  "language_info": {
   "codemirror_mode": {
    "name": "ipython",
    "version": 3
   },
   "file_extension": ".py",
   "mimetype": "text/x-python",
   "name": "python",
   "nbconvert_exporter": "python",
   "pygments_lexer": "ipython3",
   "version": "3.8.12"
  }
 },
 "nbformat": 4,
 "nbformat_minor": 5
}
