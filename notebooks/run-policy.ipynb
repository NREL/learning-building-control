{
 "cells": [
  {
   "cell_type": "code",
   "execution_count": 1,
   "id": "ed6eae81",
   "metadata": {},
   "outputs": [],
   "source": [
    "import sys\n",
    "\n",
    "import pandas as pd\n",
    "import numpy as np\n",
    "import matplotlib.pyplot as plt\n",
    "\n",
    "%matplotlib inline\n",
    "%load_ext autoreload"
   ]
  },
  {
   "cell_type": "code",
   "execution_count": 2,
   "id": "f314481e",
   "metadata": {},
   "outputs": [],
   "source": [
    "%autoreload 2\n",
    "from lbc.analysis import run_analysis, plot_costs"
   ]
  },
  {
   "cell_type": "code",
   "execution_count": 3,
   "id": "89208d21",
   "metadata": {},
   "outputs": [],
   "source": [
    "%autoreload 2\n",
    "from lbc.experiments import (\n",
    "    DPCRunner, MPCOneShotRunner, MPCRunner, RLCRunner, CPLRunner, RBCRunner)"
   ]
  },
  {
   "cell_type": "code",
   "execution_count": 4,
   "id": "a8f52002",
   "metadata": {},
   "outputs": [],
   "source": [
    "%autoreload 2\n",
    "from lbc.experiments.config import get_config"
   ]
  },
  {
   "cell_type": "code",
   "execution_count": 5,
   "id": "12bdf24a",
   "metadata": {},
   "outputs": [],
   "source": [
    "# COMMON CONFIG used by all policies.\n",
    "common = {\n",
    "    \"dr_program\": \"PC\",\n",
    "    \"batch_size\": 31,\n",
    "    \"results_dir\": \"./_scratch\",\n",
    "    \"dry_run\": 0\n",
    "}"
   ]
  },
  {
   "cell_type": "markdown",
   "id": "2cd28919",
   "metadata": {},
   "source": [
    "# MPCOneShot"
   ]
  },
  {
   "cell_type": "code",
   "execution_count": 6,
   "id": "8c46294a",
   "metadata": {},
   "outputs": [
    {
     "data": {
      "text/plain": [
       "{'policy_type': 'MPCOneShot',\n",
       " 'policy_config': {'tee': False},\n",
       " 'batch_size': 31,\n",
       " 'dr_program': 'PC',\n",
       " 'scenario_config': {'start_time': '00:05:00',\n",
       "  'end_time': '23:55:00',\n",
       "  'zone_temp_init_mean': 26.0},\n",
       " 'dry_run': 0,\n",
       " 'results_dir': './_scratch'}"
      ]
     },
     "execution_count": 6,
     "metadata": {},
     "output_type": "execute_result"
    }
   ],
   "source": [
    "config = get_config(\"MPCOneShot\", **common)\n",
    "config"
   ]
  },
  {
   "cell_type": "code",
   "execution_count": 7,
   "id": "9887df5b",
   "metadata": {
    "scrolled": false
   },
   "outputs": [
    {
     "name": "stderr",
     "output_type": "stream",
     "text": [
      "INFO:/Users/dbiagion/gitrepos/learning-building-control/lbc/policies/mpc.py:one-shot: batch sample (1/31)\n",
      "INFO:/Users/dbiagion/gitrepos/learning-building-control/lbc/policies/mpc.py:one-shot: batch sample (2/31)\n",
      "INFO:/Users/dbiagion/gitrepos/learning-building-control/lbc/policies/mpc.py:one-shot: batch sample (3/31)\n",
      "INFO:/Users/dbiagion/gitrepos/learning-building-control/lbc/policies/mpc.py:one-shot: batch sample (4/31)\n",
      "INFO:/Users/dbiagion/gitrepos/learning-building-control/lbc/policies/mpc.py:one-shot: batch sample (5/31)\n",
      "INFO:/Users/dbiagion/gitrepos/learning-building-control/lbc/policies/mpc.py:one-shot: batch sample (6/31)\n",
      "INFO:/Users/dbiagion/gitrepos/learning-building-control/lbc/policies/mpc.py:one-shot: batch sample (7/31)\n",
      "INFO:/Users/dbiagion/gitrepos/learning-building-control/lbc/policies/mpc.py:one-shot: batch sample (8/31)\n",
      "INFO:/Users/dbiagion/gitrepos/learning-building-control/lbc/policies/mpc.py:one-shot: batch sample (9/31)\n",
      "INFO:/Users/dbiagion/gitrepos/learning-building-control/lbc/policies/mpc.py:one-shot: batch sample (10/31)\n",
      "INFO:/Users/dbiagion/gitrepos/learning-building-control/lbc/policies/mpc.py:one-shot: batch sample (11/31)\n",
      "INFO:/Users/dbiagion/gitrepos/learning-building-control/lbc/policies/mpc.py:one-shot: batch sample (12/31)\n",
      "INFO:/Users/dbiagion/gitrepos/learning-building-control/lbc/policies/mpc.py:one-shot: batch sample (13/31)\n",
      "INFO:/Users/dbiagion/gitrepos/learning-building-control/lbc/policies/mpc.py:one-shot: batch sample (14/31)\n",
      "INFO:/Users/dbiagion/gitrepos/learning-building-control/lbc/policies/mpc.py:one-shot: batch sample (15/31)\n",
      "INFO:/Users/dbiagion/gitrepos/learning-building-control/lbc/policies/mpc.py:one-shot: batch sample (16/31)\n",
      "INFO:/Users/dbiagion/gitrepos/learning-building-control/lbc/policies/mpc.py:one-shot: batch sample (17/31)\n",
      "INFO:/Users/dbiagion/gitrepos/learning-building-control/lbc/policies/mpc.py:one-shot: batch sample (18/31)\n",
      "INFO:/Users/dbiagion/gitrepos/learning-building-control/lbc/policies/mpc.py:one-shot: batch sample (19/31)\n",
      "INFO:/Users/dbiagion/gitrepos/learning-building-control/lbc/policies/mpc.py:one-shot: batch sample (20/31)\n",
      "INFO:/Users/dbiagion/gitrepos/learning-building-control/lbc/policies/mpc.py:one-shot: batch sample (21/31)\n",
      "INFO:/Users/dbiagion/gitrepos/learning-building-control/lbc/policies/mpc.py:one-shot: batch sample (22/31)\n",
      "INFO:/Users/dbiagion/gitrepos/learning-building-control/lbc/policies/mpc.py:one-shot: batch sample (23/31)\n",
      "INFO:/Users/dbiagion/gitrepos/learning-building-control/lbc/policies/mpc.py:one-shot: batch sample (24/31)\n",
      "INFO:/Users/dbiagion/gitrepos/learning-building-control/lbc/policies/mpc.py:one-shot: batch sample (25/31)\n",
      "INFO:/Users/dbiagion/gitrepos/learning-building-control/lbc/policies/mpc.py:one-shot: batch sample (26/31)\n",
      "INFO:/Users/dbiagion/gitrepos/learning-building-control/lbc/policies/mpc.py:one-shot: batch sample (27/31)\n",
      "INFO:/Users/dbiagion/gitrepos/learning-building-control/lbc/policies/mpc.py:one-shot: batch sample (28/31)\n",
      "INFO:/Users/dbiagion/gitrepos/learning-building-control/lbc/policies/mpc.py:one-shot: batch sample (29/31)\n",
      "INFO:/Users/dbiagion/gitrepos/learning-building-control/lbc/policies/mpc.py:one-shot: batch sample (30/31)\n",
      "INFO:/Users/dbiagion/gitrepos/learning-building-control/lbc/policies/mpc.py:one-shot: batch sample (31/31)\n",
      "INFO:lbc.experiments.runner:[MPCOneShot-PC] bsz=31, loss=3276.712, time=575.0\n",
      "INFO:lbc.experiments.runner:saved to ./_scratch/MPCOneShot-PC.p\n"
     ]
    }
   ],
   "source": [
    "runner0 = MPCOneShotRunner(**config)\n",
    "loss0, rollout0, meta0 = runner0.run()"
   ]
  },
  {
   "cell_type": "code",
   "execution_count": 8,
   "id": "a3f2113d",
   "metadata": {},
   "outputs": [
    {
     "name": "stdout",
     "output_type": "stream",
     "text": [
      "relative error: 0.3%\n"
     ]
    }
   ],
   "source": [
    "# As a sanity check, we can compare the planned zone temp in MPC and \n",
    "# the realized (rollout) zone temp.  They should be quite close since\n",
    "# MPC has an idealized model of dynamics and exogenous variables.\n",
    "\n",
    "df = meta0[\"df\"][0]\n",
    "z1 = df[[x for x in df.columns if x.startswith(\"zone_temp\")]]\n",
    "\n",
    "z2 = rollout0.data[\"zone_temp\"][:, 0, :].squeeze()\n",
    "\n",
    "relerr = np.linalg.norm(z1-z2) / np.linalg.norm(z1) * 100.\n",
    "print(f\"relative error: {relerr:.1f}%\")"
   ]
  },
  {
   "cell_type": "code",
   "execution_count": 9,
   "id": "61c407e4",
   "metadata": {},
   "outputs": [],
   "source": [
    "# _, df, figs = run_analysis(rollout0, dr, secondary=True)"
   ]
  },
  {
   "cell_type": "code",
   "execution_count": 10,
   "id": "77e1f8e1",
   "metadata": {},
   "outputs": [],
   "source": [
    "# _ = plot_costs(rollout0, secondary=\"pc_limit\")"
   ]
  },
  {
   "cell_type": "markdown",
   "id": "8635db50",
   "metadata": {},
   "source": [
    "# MPC"
   ]
  },
  {
   "cell_type": "code",
   "execution_count": 11,
   "id": "c89563e9",
   "metadata": {},
   "outputs": [
    {
     "data": {
      "text/plain": [
       "{'policy_type': 'MPC',\n",
       " 'policy_config': {'num_lookahead_steps': 4, 'tee': False},\n",
       " 'batch_size': 31,\n",
       " 'dr_program': 'PC',\n",
       " 'scenario_config': {'start_time': '00:05:00',\n",
       "  'end_time': '23:55:00',\n",
       "  'zone_temp_init_mean': 26.0,\n",
       "  'dr_program': <lbc.demand_response.DemandResponseProgram at 0x7fcf2c16b8e0>},\n",
       " 'dry_run': 0,\n",
       " 'results_dir': './_scratch'}"
      ]
     },
     "execution_count": 11,
     "metadata": {},
     "output_type": "execute_result"
    }
   ],
   "source": [
    "config = get_config(\"MPC\", **common)\n",
    "config"
   ]
  },
  {
   "cell_type": "code",
   "execution_count": 12,
   "id": "ce02cad5",
   "metadata": {
    "scrolled": false
   },
   "outputs": [
    {
     "name": "stderr",
     "output_type": "stream",
     "text": [
      "100%|████████████████████████████████████████████████████████████████████████████████████████████████| 287/287 [15:10<00:00,  3.17s/it]\n",
      "INFO:lbc.experiments.runner:[MPC-PC-4] bsz=31, loss=5665.970, time=910.7\n",
      "INFO:lbc.experiments.runner:saved to ./_scratch/MPC-PC-4.p\n"
     ]
    }
   ],
   "source": [
    "runner1 = MPCRunner(**config)\n",
    "loss1, rollout1, meta1 = runner1.run()"
   ]
  },
  {
   "cell_type": "code",
   "execution_count": 13,
   "id": "e2828750",
   "metadata": {},
   "outputs": [],
   "source": [
    "# _, df, figs = run_analysis(rollout1, dr, secondary=True)"
   ]
  },
  {
   "cell_type": "code",
   "execution_count": 14,
   "id": "588cbe6e",
   "metadata": {},
   "outputs": [],
   "source": [
    "# _ = plot_costs(rollout1, secondary=\"pc_limit\")"
   ]
  },
  {
   "cell_type": "markdown",
   "id": "fae825cd",
   "metadata": {},
   "source": [
    "# CPL - No learning"
   ]
  },
  {
   "cell_type": "code",
   "execution_count": 15,
   "id": "bff1b285",
   "metadata": {},
   "outputs": [
    {
     "data": {
      "text/plain": [
       "{'policy_type': 'CPL',\n",
       " 'policy_config': {'lookahead': 4,\n",
       "  'lr': 10,\n",
       "  'num_epochs': 50,\n",
       "  'use_value_function': 0,\n",
       "  'num_time_windows': 24},\n",
       " 'batch_size': 31,\n",
       " 'dr_program': 'PC',\n",
       " 'scenario_config': {'start_time': '00:05:00',\n",
       "  'end_time': '23:55:00',\n",
       "  'zone_temp_init_mean': 26.0,\n",
       "  'dr_program': <lbc.demand_response.DemandResponseProgram at 0x7fcf2c16ba00>},\n",
       " 'dry_run': 0,\n",
       " 'results_dir': './_scratch'}"
      ]
     },
     "execution_count": 15,
     "metadata": {},
     "output_type": "execute_result"
    }
   ],
   "source": [
    "config = get_config(\"CPL\", **common)\n",
    "config"
   ]
  },
  {
   "cell_type": "code",
   "execution_count": 16,
   "id": "b125738f",
   "metadata": {
    "scrolled": false
   },
   "outputs": [
    {
     "name": "stderr",
     "output_type": "stream",
     "text": [
      "/Users/dbiagion/miniconda3/envs/lbc/lib/python3.8/site-packages/cvxpy/expressions/expression.py:558: UserWarning: \n",
      "This use of ``*`` has resulted in matrix multiplication.\n",
      "Using ``*`` for matrix multiplication has been deprecated since CVXPY 1.1.\n",
      "    Use ``*`` for matrix-scalar and vector-scalar multiplication.\n",
      "    Use ``@`` for matrix-matrix and matrix-vector multiplication.\n",
      "    Use ``multiply`` for elementwise multiplication.\n",
      "This code path has been hit 1 times so far.\n",
      "\n",
      "  warnings.warn(msg, UserWarning)\n",
      "INFO:lbc.experiments.runner:[CPL-PC-4-0] bsz=31, loss=5787.065, time=46.7\n",
      "INFO:lbc.experiments.runner:saved to ./_scratch/CPL-PC-4-0.p\n"
     ]
    }
   ],
   "source": [
    "runner2 = CPLRunner(**config)\n",
    "\n",
    "# This runs the policy without training (q and Q_sqrt are 0)\n",
    "loss2, rollout2, meta2 = runner2.run()"
   ]
  },
  {
   "cell_type": "code",
   "execution_count": 17,
   "id": "a19e227e",
   "metadata": {},
   "outputs": [],
   "source": [
    "# _, df, figs = run_analysis(rollout2, dr, secondary=True)"
   ]
  },
  {
   "cell_type": "code",
   "execution_count": 18,
   "id": "33575458",
   "metadata": {},
   "outputs": [],
   "source": [
    "# _ = plot_costs(rollout2, secondary=\"pc_limit\")"
   ]
  },
  {
   "cell_type": "markdown",
   "id": "c22e86b6",
   "metadata": {},
   "source": [
    "# CPL - Learning"
   ]
  },
  {
   "cell_type": "code",
   "execution_count": 19,
   "id": "5d79007f",
   "metadata": {},
   "outputs": [
    {
     "data": {
      "text/plain": [
       "{'policy_type': 'CPL',\n",
       " 'policy_config': {'lookahead': 4,\n",
       "  'lr': 1,\n",
       "  'num_epochs': 20,\n",
       "  'use_value_function': 1,\n",
       "  'num_time_windows': 24},\n",
       " 'batch_size': 31,\n",
       " 'dr_program': 'PC',\n",
       " 'scenario_config': {'start_time': '00:05:00',\n",
       "  'end_time': '23:55:00',\n",
       "  'zone_temp_init_mean': 26.0,\n",
       "  'dr_program': <lbc.demand_response.DemandResponseProgram at 0x7fcf2c6d0be0>},\n",
       " 'dry_run': 0,\n",
       " 'results_dir': './_scratch'}"
      ]
     },
     "execution_count": 19,
     "metadata": {},
     "output_type": "execute_result"
    }
   ],
   "source": [
    "# Set config params for learning\n",
    "config[\"policy_config\"][\"use_value_function\"] = 1\n",
    "config[\"policy_config\"][\"num_time_windows\"] = 24\n",
    "config[\"policy_config\"][\"lr\"] = 1\n",
    "config[\"policy_config\"][\"num_epochs\"] = 20  # increase this if truly trying to train\n",
    "config"
   ]
  },
  {
   "cell_type": "code",
   "execution_count": 20,
   "id": "d3425c47",
   "metadata": {
    "scrolled": false
   },
   "outputs": [
    {
     "name": "stderr",
     "output_type": "stream",
     "text": [
      "/Users/dbiagion/miniconda3/envs/lbc/lib/python3.8/site-packages/cvxpy/expressions/expression.py:558: UserWarning: \n",
      "This use of ``*`` has resulted in matrix multiplication.\n",
      "Using ``*`` for matrix multiplication has been deprecated since CVXPY 1.1.\n",
      "    Use ``*`` for matrix-scalar and vector-scalar multiplication.\n",
      "    Use ``@`` for matrix-matrix and matrix-vector multiplication.\n",
      "    Use ``multiply`` for elementwise multiplication.\n",
      "This code path has been hit 2 times so far.\n",
      "\n",
      "  warnings.warn(msg, UserWarning)\n",
      "2923.674, 4155.171: 100%|███████████████████████████████████████████████████████████████████████████| 20/20 [1:06:28<00:00, 199.42s/it]\n"
     ]
    }
   ],
   "source": [
    "runner3 = CPLRunner(**config)\n",
    "\n",
    "# Note the use of train_policy() rather than run()\n",
    "loss3, rollout3, meta3 = runner3.train_policy()"
   ]
  },
  {
   "cell_type": "code",
   "execution_count": 21,
   "id": "13dc50b8",
   "metadata": {},
   "outputs": [
    {
     "name": "stderr",
     "output_type": "stream",
     "text": [
      "INFO:lbc.experiments.runner:[CPL-PC-4-1] bsz=31, loss=4155.171, time=53.3\n",
      "INFO:lbc.experiments.runner:saved to ./_scratch/CPL-PC-4-1.p\n"
     ]
    }
   ],
   "source": [
    "_ = runner3.run()"
   ]
  },
  {
   "cell_type": "code",
   "execution_count": 22,
   "id": "2bcb4901",
   "metadata": {},
   "outputs": [],
   "source": [
    "# _, df, figs = run_analysis(rollout3, dr, secondary=True)"
   ]
  },
  {
   "cell_type": "code",
   "execution_count": 23,
   "id": "bfa0ddcc",
   "metadata": {},
   "outputs": [],
   "source": [
    "# _ = plot_costs(rollout3, secondary=\"pc_limit\")"
   ]
  },
  {
   "cell_type": "markdown",
   "id": "6954ee5d",
   "metadata": {},
   "source": [
    "# DPC"
   ]
  },
  {
   "cell_type": "code",
   "execution_count": 24,
   "id": "062d93d2",
   "metadata": {},
   "outputs": [
    {
     "data": {
      "text/plain": [
       "{'policy_type': 'DPC',\n",
       " 'policy_config': {'model_config': {'hidden_dim': 128, 'num_time_windows': 96},\n",
       "  'lr': 0.01,\n",
       "  'num_epochs': 100},\n",
       " 'batch_size': 31,\n",
       " 'dr_program': 'PC',\n",
       " 'scenario_config': {'start_time': '00:05:00',\n",
       "  'end_time': '23:55:00',\n",
       "  'zone_temp_init_mean': 26.0,\n",
       "  'dr_program': <lbc.demand_response.DemandResponseProgram at 0x7fcf2d64d3d0>},\n",
       " 'dry_run': 0,\n",
       " 'results_dir': './_scratch'}"
      ]
     },
     "execution_count": 24,
     "metadata": {},
     "output_type": "execute_result"
    }
   ],
   "source": [
    "config = get_config(\"DPC\", **common)\n",
    "config[\"policy_config\"][\"model_config\"][\"num_time_windows\"] = 96\n",
    "config[\"policy_config\"][\"num_epochs\"] = 100\n",
    "config[\"policy_config\"][\"lr\"] = 1e-2\n",
    "config"
   ]
  },
  {
   "cell_type": "code",
   "execution_count": 25,
   "id": "b306058f",
   "metadata": {
    "scrolled": false
   },
   "outputs": [
    {
     "name": "stderr",
     "output_type": "stream",
     "text": [
      "2771.603, 4014.342,: 100%|███████████████████████████████████████████████████████████████████████████| 100/100 [02:08<00:00,  1.28s/it]\n"
     ]
    }
   ],
   "source": [
    "runner4 = DPCRunner(**config)\n",
    "loss4, rollout4, meta4 = runner4.train_policy()"
   ]
  },
  {
   "cell_type": "code",
   "execution_count": 26,
   "id": "99e7e890",
   "metadata": {},
   "outputs": [
    {
     "name": "stderr",
     "output_type": "stream",
     "text": [
      "INFO:lbc.experiments.runner:[DPC-PC] bsz=31, loss=4014.342, time=0.4\n",
      "INFO:lbc.experiments.runner:saved to ./_scratch/DPC-PC.p\n"
     ]
    }
   ],
   "source": [
    "l4, r4, m4 = runner4.run()"
   ]
  },
  {
   "cell_type": "code",
   "execution_count": 27,
   "id": "e4fb3cea",
   "metadata": {},
   "outputs": [],
   "source": [
    "# fig, ax = plt.subplots()\n",
    "# _ = pd.DataFrame(_meta4[\"losses\"], columns=[\"train loss\"]).plot(ax=ax)\n",
    "# _ = pd.DataFrame(_meta4[\"test_losses\"], columns=[\"test loss\"]).plot(ax=ax)"
   ]
  },
  {
   "cell_type": "code",
   "execution_count": 27,
   "id": "77647390",
   "metadata": {},
   "outputs": [],
   "source": [
    "# _, df, figs = run_analysis(rollout4, dr, secondary=True)"
   ]
  },
  {
   "cell_type": "code",
   "execution_count": 28,
   "id": "a3ad9f74",
   "metadata": {},
   "outputs": [],
   "source": [
    "# _ = plot_costs(rollout4, secondary=\"pc_limit\")"
   ]
  },
  {
   "cell_type": "markdown",
   "id": "cdd10eaa",
   "metadata": {},
   "source": [
    "Code below can be used to validate that MPC cost matches actions from other policies."
   ]
  },
  {
   "cell_type": "code",
   "execution_count": 28,
   "id": "92b39328",
   "metadata": {},
   "outputs": [],
   "source": [
    "# Verify that running the DPC actions through MPCOneShot yields the same cost.\n",
    "# This helps validate consistency between the models in terms of both dynamics\n",
    "# and cost. We do this by adding hard constraints that MPC actions == DPC actions \n",
    "# and run the MPC model again.\n",
    "# config = get_config(\"MPCOneShot\", **common)\n",
    "# config[\"policy_config\"][\"action_sequence\"] = r4.data[\"clipped_action\"].copy()\n",
    "\n",
    "# runner0 = MPCOneShotRunner(**config)\n",
    "# l0, r0, m0 = runner0.run()\n",
    "\n",
    "# Compare the loss computed in MPCOneShot using DPC actions"
   ]
  },
  {
   "cell_type": "code",
   "execution_count": 29,
   "id": "249755d8",
   "metadata": {},
   "outputs": [],
   "source": [
    "# print(\"DPC loss:      \", l4.mean().item())\n",
    "# print(\"MPCOneShotLoss:\", l0.mean().item())"
   ]
  },
  {
   "cell_type": "markdown",
   "id": "43a76ba1",
   "metadata": {},
   "source": [
    "# RLC"
   ]
  },
  {
   "cell_type": "code",
   "execution_count": 30,
   "id": "09137020",
   "metadata": {
    "scrolled": false
   },
   "outputs": [
    {
     "name": "stderr",
     "output_type": "stream",
     "text": [
      "2022-02-13 16:17:42,305\tINFO trainer.py:722 -- Your framework setting is 'tf', meaning you are using static-graph mode. Set framework='tf2' to enable eager execution with tf2.x. You may also want to then set `eager_tracing=True` in order to reach similar execution speed as with static-graph mode.\n",
      "2022-02-13 16:17:42,306\tINFO ppo.py:166 -- In multi-agent mode, policies will be optimized sequentially by the multi-GPU optimizer. Consider setting simple_optimizer=True if this doesn't work for you.\n",
      "2022-02-13 16:17:42,307\tINFO trainer.py:743 -- Current log_level is WARN. For more information, set 'log_level': 'INFO' / 'DEBUG' or use the -v and -vv flags.\n",
      "\u001b[2m\u001b[36m(RolloutWorker pid=37437)\u001b[0m /Users/dbiagion/miniconda3/envs/lbc/lib/python3.8/site-packages/gym/spaces/box.py:73: UserWarning: \u001b[33mWARN: Box bound precision lowered by casting to float32\u001b[0m\n",
      "\u001b[2m\u001b[36m(RolloutWorker pid=37437)\u001b[0m   logger.warn(\n",
      "\u001b[2m\u001b[36m(RolloutWorker pid=37437)\u001b[0m 2022-02-13 16:17:48,629\tWARNING deprecation.py:45 -- DeprecationWarning: `SampleBatch['is_training']` has been deprecated. Use `SampleBatch.is_training` instead. This will raise an error in the future!\n",
      "2022-02-13 16:17:49,501\tWARNING deprecation.py:45 -- DeprecationWarning: `SampleBatch['is_training']` has been deprecated. Use `SampleBatch.is_training` instead. This will raise an error in the future!\n",
      "2022-02-13 16:17:50,266\tWARNING util.py:57 -- Install gputil for GPU system monitoring.\n",
      "2022-02-13 16:17:50,335\tINFO trainable.py:467 -- Restored on 127.0.0.1 from checkpoint: /Users/dbiagion/gitrepos/learning-building-control/lbc/policies/rlc_checkpoints/power_constrained/checkpoint/checkpoint\n",
      "2022-02-13 16:17:50,336\tINFO trainable.py:475 -- Current state after restoring: {'_iteration': 1075, '_timesteps_total': None, '_time_total': 8305.972703933716, '_episodes_total': 74408}\n",
      "\u001b[2m\u001b[36m(RolloutWorker pid=37440)\u001b[0m /Users/dbiagion/miniconda3/envs/lbc/lib/python3.8/site-packages/gym/spaces/box.py:73: UserWarning: \u001b[33mWARN: Box bound precision lowered by casting to float32\u001b[0m\n",
      "\u001b[2m\u001b[36m(RolloutWorker pid=37440)\u001b[0m   logger.warn(\n",
      "\u001b[2m\u001b[36m(RolloutWorker pid=37440)\u001b[0m 2022-02-13 16:17:55,220\tWARNING deprecation.py:45 -- DeprecationWarning: `SampleBatch['is_training']` has been deprecated. Use `SampleBatch.is_training` instead. This will raise an error in the future!\n",
      "2022-02-13 16:17:56,637\tWARNING util.py:57 -- Install gputil for GPU system monitoring.\n",
      "2022-02-13 16:17:56,705\tINFO trainable.py:467 -- Restored on 127.0.0.1 from checkpoint: /Users/dbiagion/gitrepos/learning-building-control/lbc/policies/rlc_checkpoints/real_time_pricing/checkpoint/checkpoint\n",
      "2022-02-13 16:17:56,706\tINFO trainable.py:475 -- Current state after restoring: {'_iteration': 1180, '_timesteps_total': None, '_time_total': 9334.731651067734, '_episodes_total': 81721}\n",
      "\u001b[2m\u001b[36m(RolloutWorker pid=37439)\u001b[0m /Users/dbiagion/miniconda3/envs/lbc/lib/python3.8/site-packages/gym/spaces/box.py:73: UserWarning: \u001b[33mWARN: Box bound precision lowered by casting to float32\u001b[0m\n",
      "\u001b[2m\u001b[36m(RolloutWorker pid=37439)\u001b[0m   logger.warn(\n",
      "\u001b[2m\u001b[36m(RolloutWorker pid=37439)\u001b[0m 2022-02-13 16:18:01,484\tWARNING deprecation.py:45 -- DeprecationWarning: `SampleBatch['is_training']` has been deprecated. Use `SampleBatch.is_training` instead. This will raise an error in the future!\n",
      "2022-02-13 16:18:02,931\tWARNING util.py:57 -- Install gputil for GPU system monitoring.\n",
      "2022-02-13 16:18:02,999\tINFO trainable.py:467 -- Restored on 127.0.0.1 from checkpoint: /Users/dbiagion/gitrepos/learning-building-control/lbc/policies/rlc_checkpoints/time_of_use/checkpoint/checkpoint\n",
      "2022-02-13 16:18:03,000\tINFO trainable.py:475 -- Current state after restoring: {'_iteration': 1330, '_timesteps_total': None, '_time_total': 10379.037607431412, '_episodes_total': 92087}\n",
      "/Users/dbiagion/miniconda3/envs/lbc/lib/python3.8/site-packages/gym/spaces/box.py:73: UserWarning: \u001b[33mWARN: Box bound precision lowered by casting to float32\u001b[0m\n",
      "  logger.warn(\n",
      "2022-02-13 16:18:03,232\tWARNING deprecation.py:45 -- DeprecationWarning: `compute_action` has been deprecated. Use `compute_single_action` instead. This will raise an error in the future!\n",
      "INFO:lbc.experiments.runner:[RLC-PC] bsz=31, loss=5622.376, time=37.3\n",
      "INFO:lbc.experiments.runner:saved to ./_scratch/RLC-PC.p\n"
     ]
    }
   ],
   "source": [
    "config = get_config(\"RLC\", **common)\n",
    "\n",
    "# Shut down ray in case it's still running, fail silently\n",
    "try:\n",
    "    import ray\n",
    "    ray.shutdown()\n",
    "except:\n",
    "    pass\n",
    "\n",
    "runner5 = RLCRunner(**config)\n",
    "loss5, rollout5, meta5 = runner5.run()"
   ]
  },
  {
   "cell_type": "code",
   "execution_count": 31,
   "id": "ca8477ce",
   "metadata": {},
   "outputs": [],
   "source": [
    "#_, df, figs = run_analysis(rollout5, dr, secondary=True)"
   ]
  },
  {
   "cell_type": "code",
   "execution_count": 32,
   "id": "562cf5eb",
   "metadata": {},
   "outputs": [],
   "source": [
    "# _ = plot_costs(rollout5, secondary=\"pc_limit\")"
   ]
  },
  {
   "cell_type": "markdown",
   "id": "2c8a7b8d",
   "metadata": {},
   "source": [
    "# RBC"
   ]
  },
  {
   "cell_type": "code",
   "execution_count": 33,
   "id": "c72fdb13",
   "metadata": {},
   "outputs": [
    {
     "data": {
      "text/plain": [
       "{'policy_type': 'RBC',\n",
       " 'policy_config': {'setpoints': [(0, 27),\n",
       "   (83, 24),\n",
       "   (131, 21),\n",
       "   (143, 24),\n",
       "   (215, 24),\n",
       "   (215, 27)],\n",
       "  'p_flow': 1.0,\n",
       "  'p_temp': 1.0},\n",
       " 'batch_size': 31,\n",
       " 'dr_program': 'PC',\n",
       " 'scenario_config': {'start_time': '00:05:00',\n",
       "  'end_time': '23:55:00',\n",
       "  'zone_temp_init_mean': 26.0,\n",
       "  'dr_program': <lbc.demand_response.DemandResponseProgram at 0x7fcf1ac46af0>},\n",
       " 'dry_run': 0,\n",
       " 'results_dir': './_scratch'}"
      ]
     },
     "execution_count": 33,
     "metadata": {},
     "output_type": "execute_result"
    }
   ],
   "source": [
    "config = get_config(\"RBC\", **common)\n",
    "config"
   ]
  },
  {
   "cell_type": "code",
   "execution_count": 34,
   "id": "2a23e1ef",
   "metadata": {},
   "outputs": [
    {
     "name": "stderr",
     "output_type": "stream",
     "text": [
      "INFO:lbc.experiments.runner:[RBC-PC-1.000-1.000] bsz=31, loss=451170.344, time=0.3\n",
      "INFO:lbc.experiments.runner:saved to ./_scratch/RBC-PC-1.000-1.000.p\n"
     ]
    }
   ],
   "source": [
    "runner6 = RBCRunner(**config)\n",
    "loss6, rollout6, meta6 = runner6.run()"
   ]
  },
  {
   "cell_type": "code",
   "execution_count": null,
   "id": "a20f7fb4",
   "metadata": {},
   "outputs": [],
   "source": []
  },
  {
   "cell_type": "code",
   "execution_count": null,
   "id": "df297c17",
   "metadata": {},
   "outputs": [],
   "source": []
  }
 ],
 "metadata": {
  "kernelspec": {
   "display_name": "Python 3 (ipykernel)",
   "language": "python",
   "name": "python3"
  },
  "language_info": {
   "codemirror_mode": {
    "name": "ipython",
    "version": 3
   },
   "file_extension": ".py",
   "mimetype": "text/x-python",
   "name": "python",
   "nbconvert_exporter": "python",
   "pygments_lexer": "ipython3",
   "version": "3.8.12"
  }
 },
 "nbformat": 4,
 "nbformat_minor": 5
}
