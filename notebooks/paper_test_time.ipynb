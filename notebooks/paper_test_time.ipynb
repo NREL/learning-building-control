{
 "cells": [
  {
   "cell_type": "code",
   "execution_count": 1,
   "id": "7f7b8787",
   "metadata": {},
   "outputs": [],
   "source": [
    "import pandas as pd\n",
    "\n",
    "import matplotlib.pyplot as plt\n",
    "\n",
    "plt.rcParams[\"font.family\"] = \"Times New Roman\""
   ]
  },
  {
   "cell_type": "code",
   "execution_count": 2,
   "id": "1737e206",
   "metadata": {},
   "outputs": [],
   "source": [
    "data = pd.read_csv('results_paper.csv')\n",
    "\n",
    "OPTIMAL_BASE = {'TOU': 1021.9, 'RTP': 1338.4, 'PC': 331.5}\n",
    "CNAME_MAPPING = {'MPC': 'MPC',\n",
    "                 'MPC-C': 'MPC-C', \n",
    "                 'CPL': 'MPC-CL',\n",
    "                 'DPC': 'DPC', \n",
    "                 'RLC': 'RLC', \n",
    "                 'RBC': 'RBC'}\n",
    "SAVE_FIG = False"
   ]
  },
  {
   "cell_type": "code",
   "execution_count": 3,
   "id": "6ecc66aa",
   "metadata": {
    "scrolled": false
   },
   "outputs": [
    {
     "data": {
      "text/html": [
       "<div>\n",
       "<style scoped>\n",
       "    .dataframe tbody tr th:only-of-type {\n",
       "        vertical-align: middle;\n",
       "    }\n",
       "\n",
       "    .dataframe tbody tr th {\n",
       "        vertical-align: top;\n",
       "    }\n",
       "\n",
       "    .dataframe thead th {\n",
       "        text-align: right;\n",
       "    }\n",
       "</style>\n",
       "<table border=\"1\" class=\"dataframe\">\n",
       "  <thead>\n",
       "    <tr style=\"text-align: right;\">\n",
       "      <th></th>\n",
       "      <th>controller_type</th>\n",
       "      <th>cost</th>\n",
       "      <th>dr_type</th>\n",
       "      <th>look_ahead</th>\n",
       "      <th>test_time</th>\n",
       "    </tr>\n",
       "  </thead>\n",
       "  <tbody>\n",
       "    <tr>\n",
       "      <th>0</th>\n",
       "      <td>MPC-Oracle</td>\n",
       "      <td>1021.9</td>\n",
       "      <td>TOU</td>\n",
       "      <td>0</td>\n",
       "      <td>25.512032</td>\n",
       "    </tr>\n",
       "    <tr>\n",
       "      <th>1</th>\n",
       "      <td>RBC</td>\n",
       "      <td>1216.3</td>\n",
       "      <td>TOU</td>\n",
       "      <td>0</td>\n",
       "      <td>0.012068</td>\n",
       "    </tr>\n",
       "    <tr>\n",
       "      <th>2</th>\n",
       "      <td>DPC</td>\n",
       "      <td>1040.8</td>\n",
       "      <td>TOU</td>\n",
       "      <td>3</td>\n",
       "      <td>0.623462</td>\n",
       "    </tr>\n",
       "    <tr>\n",
       "      <th>3</th>\n",
       "      <td>DPC</td>\n",
       "      <td>1047.6</td>\n",
       "      <td>TOU</td>\n",
       "      <td>6</td>\n",
       "      <td>0.626185</td>\n",
       "    </tr>\n",
       "    <tr>\n",
       "      <th>4</th>\n",
       "      <td>DPC</td>\n",
       "      <td>1051.5</td>\n",
       "      <td>TOU</td>\n",
       "      <td>12</td>\n",
       "      <td>0.615763</td>\n",
       "    </tr>\n",
       "    <tr>\n",
       "      <th>...</th>\n",
       "      <td>...</td>\n",
       "      <td>...</td>\n",
       "      <td>...</td>\n",
       "      <td>...</td>\n",
       "      <td>...</td>\n",
       "    </tr>\n",
       "    <tr>\n",
       "      <th>70</th>\n",
       "      <td>CPL</td>\n",
       "      <td>739.6</td>\n",
       "      <td>PC</td>\n",
       "      <td>3</td>\n",
       "      <td>44.393015</td>\n",
       "    </tr>\n",
       "    <tr>\n",
       "      <th>71</th>\n",
       "      <td>RLC</td>\n",
       "      <td>1051.8</td>\n",
       "      <td>PC</td>\n",
       "      <td>3</td>\n",
       "      <td>1.579868</td>\n",
       "    </tr>\n",
       "    <tr>\n",
       "      <th>72</th>\n",
       "      <td>RLC</td>\n",
       "      <td>1073.0</td>\n",
       "      <td>PC</td>\n",
       "      <td>6</td>\n",
       "      <td>1.595971</td>\n",
       "    </tr>\n",
       "    <tr>\n",
       "      <th>73</th>\n",
       "      <td>RLC</td>\n",
       "      <td>702.9</td>\n",
       "      <td>PC</td>\n",
       "      <td>12</td>\n",
       "      <td>1.677363</td>\n",
       "    </tr>\n",
       "    <tr>\n",
       "      <th>74</th>\n",
       "      <td>RLC</td>\n",
       "      <td>1227.2</td>\n",
       "      <td>PC</td>\n",
       "      <td>24</td>\n",
       "      <td>1.637375</td>\n",
       "    </tr>\n",
       "  </tbody>\n",
       "</table>\n",
       "<p>75 rows × 5 columns</p>\n",
       "</div>"
      ],
      "text/plain": [
       "   controller_type    cost dr_type  look_ahead  test_time\n",
       "0       MPC-Oracle  1021.9     TOU           0  25.512032\n",
       "1              RBC  1216.3     TOU           0   0.012068\n",
       "2              DPC  1040.8     TOU           3   0.623462\n",
       "3              DPC  1047.6     TOU           6   0.626185\n",
       "4              DPC  1051.5     TOU          12   0.615763\n",
       "..             ...     ...     ...         ...        ...\n",
       "70             CPL   739.6      PC           3  44.393015\n",
       "71             RLC  1051.8      PC           3   1.579868\n",
       "72             RLC  1073.0      PC           6   1.595971\n",
       "73             RLC   702.9      PC          12   1.677363\n",
       "74             RLC  1227.2      PC          24   1.637375\n",
       "\n",
       "[75 rows x 5 columns]"
      ]
     },
     "execution_count": 3,
     "metadata": {},
     "output_type": "execute_result"
    }
   ],
   "source": [
    "data"
   ]
  },
  {
   "cell_type": "code",
   "execution_count": 4,
   "id": "9c997738",
   "metadata": {},
   "outputs": [],
   "source": [
    "def get_data(control_type, dr_type):\n",
    "\n",
    "    data_specific = data[(data.controller_type == control_type) & (data.dr_type == dr_type)]\n",
    "    results = [data_specific.test_time.to_list(),\n",
    "               data_specific.cost.to_list()]\n",
    "    \n",
    "    return results"
   ]
  },
  {
   "cell_type": "code",
   "execution_count": 5,
   "id": "fb51f205",
   "metadata": {},
   "outputs": [
    {
     "data": {
      "image/png": "[encoded data removed]",
      "text/plain": [
       "<Figure size 468x360 with 1 Axes>"
      ]
     },
     "metadata": {
      "needs_background": "light"
     },
     "output_type": "display_data"
    }
   ],
   "source": [
    "DR_TYPE = 'TOU'\n",
    "\n",
    "fig, axes = plt.subplots(1, 1, figsize=(6.5, 5))\n",
    "\n",
    "for controller in CNAME_MAPPING.keys():\n",
    "    c_data = get_data(controller, DR_TYPE)\n",
    "    plt.scatter(c_data[0], c_data[1], label=CNAME_MAPPING[controller])\n",
    "    \n",
    "plt.plot([0.001, 1000], [OPTIMAL_BASE[DR_TYPE], OPTIMAL_BASE[DR_TYPE]], linestyle='dashed', label='OPT')\n",
    "plt.xscale('log')\n",
    "# plt.yscale('log')\n",
    "plt.xlabel('Average Online Computational Time Per Episode (Seconds)', fontsize=15)\n",
    "plt.ylabel('Average Episodic Cost', fontsize=15)\n",
    "plt.grid()\n",
    "plt.tick_params(labelsize=15)\n",
    "plt.xlim([0.01, 1000])\n",
    "plt.ylim([750, 3000])\n",
    "plt.legend(fontsize=15, ncol=1, loc='upper left')\n",
    "\n",
    "if SAVE_FIG:\n",
    "    plt.savefig('online_computation_time_tou.png', dpi=200)"
   ]
  },
  {
   "cell_type": "code",
   "execution_count": null,
   "id": "ddb85bce",
   "metadata": {},
   "outputs": [],
   "source": []
  }
 ],
 "metadata": {
  "kernelspec": {
   "display_name": "Python 3 (ipykernel)",
   "language": "python",
   "name": "python3"
  },
  "language_info": {
   "codemirror_mode": {
    "name": "ipython",
    "version": 3
   },
   "file_extension": ".py",
   "mimetype": "text/x-python",
   "name": "python",
   "nbconvert_exporter": "python",
   "pygments_lexer": "ipython3",
   "version": "3.8.12"
  }
 },
 "nbformat": 4,
 "nbformat_minor": 5
}
